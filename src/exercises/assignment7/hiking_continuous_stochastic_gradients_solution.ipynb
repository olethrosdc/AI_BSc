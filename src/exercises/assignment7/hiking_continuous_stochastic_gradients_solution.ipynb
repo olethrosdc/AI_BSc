{
 "cells": [
  {
   "cell_type": "code",
   "execution_count": null,
   "metadata": {},
   "outputs": [],
   "source": [
    "import numpy as np\n",
    "np.random.seed(0)"
   ]
  },
  {
   "cell_type": "code",
   "execution_count": null,
   "metadata": {},
   "outputs": [],
   "source": [
    "# Problem definition (this is not know by the decision maker)\n",
    "\n",
    "# probabilities for sunny, windy, rainy\n",
    "weather_distribution = {\n",
    "    \"sunny\": 0.41,\n",
    "    \"windy\": 0.26,\n",
    "    \"rainy\": 0.33\n",
    "}\n",
    "weather_conditions = list(weather_distribution.keys())\n",
    "weather_probs = np.array(list(weather_distribution.values()))\n",
    "num_weathers = len(weather_distribution)"
   ]
  },
  {
   "cell_type": "code",
   "execution_count": null,
   "metadata": {},
   "outputs": [],
   "source": [
    "\n",
    "def sunny_utility(water):\n",
    "    return 7 - (water - 3)**2\n",
    "\n",
    "def windy_utility(water):\n",
    "    return 4 - (water - 2)**2\n",
    "\n",
    "def rainy_utility(water):\n",
    "    return 2 - (water - 1)**2\n",
    "\n",
    "\n",
    "# TO FILL\n",
    "optimal_water = {\n",
    "    \"sunny\": 3,\n",
    "    \"windy\": 2,\n",
    "    \"rainy\": 1\n",
    "}\n",
    "\n",
    "def get_optimal_action_for(weather):\n",
    "    return optimal_water[weather]\n"
   ]
  },
  {
   "cell_type": "code",
   "execution_count": null,
   "metadata": {},
   "outputs": [],
   "source": [
    "# a simple plot to visualise the actual utility function.\n",
    "water = np.linspace(0, 5)\n",
    "\n",
    "sunny_u = sunny_utility(water)\n",
    "windy_u = windy_utility(water)\n",
    "rainy_u = rainy_utility(water)\n",
    "\n",
    "expected_utility = sunny_u * weather_distribution[\"sunny\"] + windy_u * weather_distribution[\"windy\"] + rainy_u * weather_distribution[\"rainy\"] \n",
    "\n",
    "plt.grid()\n",
    "plt.xlabel(\"Water\")\n",
    "plt.ylabel(\"Utility\")\n",
    "plt.plot(water, sunny_u, label=\"Sunny\")\n",
    "plt.plot(water, windy_u, label=\"Windy\")\n",
    "plt.plot(water, rainy_u, label=\"Rainy\")\n",
    "plt.plot(water, expected_utility, label=\"In Expectation\")\n",
    "plt.legend()"
   ]
  },
  {
   "cell_type": "code",
   "execution_count": null,
   "metadata": {},
   "outputs": [],
   "source": [
    "# TO FILL \n",
    "def compute_mse_gradient(observed: float, predicted: float) -> np.ndarray:\n",
    "    # compute the gradient for the mse loss: (observed - predicted)^2\n",
    "    return 2 * (observed - predicted)\n",
    "\n",
    "# TO FILL \n",
    "def update_estimate(observed: float, estimate: np.ndarray, learning_rate: float) -> np.ndarray:\n",
    "    # update our estimates by taking a gradient step\n",
    "    return estimate + learning_rate * compute_mse_gradient(observed, estimate)\n",
    "    "
   ]
  },
  {
   "cell_type": "code",
   "execution_count": null,
   "metadata": {},
   "outputs": [],
   "source": [
    "# Initialise jacket policy\n",
    "estimate = 0.  # Start with arbitrary estimates\n",
    "num_samples = 10000\n",
    "learning_rate_schedule = np.linspace(0.01, 0, num_samples)\n",
    "\n",
    "for i, learning_rate in enumerate(learning_rate_schedule, 1):\n",
    "    # Sample a random weather condition from the true distribution\n",
    "    weather = np.random.choice(weather_conditions, p=weather_probs)\n",
    "    \n",
    "    # TO FILL\n",
    "    \n",
    "    observed_utility = get_optimal_action_for(weather)\n",
    "    estimate = update_estimate(observed_utility, estimate, learning_rate)\n",
    "    \n",
    "    if i == 1 or i % 500 == 0:\n",
    "        print(\"Sampled amount:\", i)\n",
    "        print(\"Estimates:\", estimate)\n",
    "        print(\"Estimated best action:\", estimate)\n",
    "    "
   ]
  },
  {
   "cell_type": "code",
   "execution_count": null,
   "metadata": {},
   "outputs": [],
   "source": [
    "# Initialize water choice (continuous) and learning rate\n",
    "water = np.random.uniform(0, 3)  # Random initial water amount\n",
    "learning_rate_water = 0.1"
   ]
  },
  {
   "cell_type": "code",
   "execution_count": null,
   "metadata": {},
   "outputs": [],
   "source": []
  }
 ],
 "metadata": {
  "kernelspec": {
   "display_name": "Python 3",
   "language": "python",
   "name": "python3"
  },
  "language_info": {
   "codemirror_mode": {
    "name": "ipython",
    "version": 3
   },
   "file_extension": ".py",
   "mimetype": "text/x-python",
   "name": "python",
   "nbconvert_exporter": "python",
   "pygments_lexer": "ipython3",
   "version": "3.8.10"
  }
 },
 "nbformat": 4,
 "nbformat_minor": 4
}
