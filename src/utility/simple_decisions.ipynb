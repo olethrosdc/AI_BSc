{
 "cells": [
  {
   "cell_type": "code",
   "execution_count": 1,
   "id": "0050e718-5746-4933-b394-24eeb15fa957",
   "metadata": {},
   "outputs": [],
   "source": [
    "import numpy as np"
   ]
  },
  {
   "cell_type": "markdown",
   "id": "18b1c97e-4e78-4888-abae-821fe25a960c",
   "metadata": {},
   "source": [
    "# Maximising utility\n",
    "\n",
    "From $n$ alternatives, we prefer alternative $a$ to $b$ if $U(a) > U(b)$\n",
    "Not everybody has the same utility function.\n"
   ]
  },
  {
   "cell_type": "markdown",
   "id": "33fee416-9c24-45dc-81fe-f7f5300537a7",
   "metadata": {},
   "source": [
    "# Maximising expected utility\n",
    "\n",
    "Sometimes our choices result in *random* outcomes. We have a preference between outcomes,\n",
    "but we prefer the choice which results in highest *expected* utility.\n",
    "We prefer $a$ to $b$ iff $E[U | a] > E[U | b]$, where\n",
    "$E[U | a] = \\sum_\\omega U(\\omega, a) P(\\omega | a)$\n",
    "and $P(\\omega | a)$ is the conditional distribution of outcomes for each action $a \\in A$."
   ]
  },
  {
   "cell_type": "markdown",
   "id": "90561986-b700-41f8-b100-b7f559aa0cc6",
   "metadata": {},
   "source": [
    "# Example: Going on a hie\n",
    "\n",
    "We plan to go on a hike, but it might rain. So, we have following decisions:\n",
    "$a = 1$: Go on a hike, $a = 0$: stay at home. Our utility function is\n",
    "\n",
    "\n",
    "| U    | dry | rain|\n",
    "| -----| ----|-----|\n",
    "| home |  0  |  0  |\n",
    "| hike |  1  |  -1 |\n",
    "\n",
    "The probability of rain determines whether or not we go for a hike\n"
   ]
  },
  {
   "cell_type": "code",
   "execution_count": null,
   "id": "da8e0797-5134-469e-8056-7d9579b7317a",
   "metadata": {},
   "outputs": [],
   "source": [
    "# return 1 if we should go on a hike, 0 otherwise\n",
    "def hike(utility, rain_probability):\n",
    "    "
   ]
  },
  {
   "cell_type": "markdown",
   "id": "88df6833-f89c-4ec4-bc41-3459e9d8cbb7",
   "metadata": {},
   "source": [
    "# Example: Deciding between the train and the car\n",
    "\n",
    "\n",
    "|    | normal time | delayed | cost |\n",
    "| ----- | ---- | ----- | --- |\n",
    "| train |  60  |  65 | 16 |\n",
    "|  car  |  50  |  90  | 12  |\n",
    "\n",
    "The probability of delays is not the same for the car and the train.\n",
    "\n",
    "| P   | normal time | delayed |\n",
    "| ----- | ---- | ----- |\n",
    "| train |  50% |  50% |\n",
    "|  car  |  80% |  20%  |\n",
    "\n",
    "\n",
    "Let $a = 1$ mean taking the car and $a = 0$ mean taking the train.\n",
    "\n",
    "What should the utility function be? How should it reflect your own preferences?\n"
   ]
  },
  {
   "cell_type": "code",
   "execution_count": 13,
   "id": "fa696c2d-a5d1-4538-918e-21fc833746c1",
   "metadata": {},
   "outputs": [
    {
     "data": {
      "text/plain": [
       "matrix([[0.5, 0.5],\n",
       "        [0.8, 0.2]])"
      ]
     },
     "execution_count": 13,
     "metadata": {},
     "output_type": "execute_result"
    }
   ],
   "source": [
    "def utility(transport_mode, time, cost):\n",
    "    pass\n",
    "\n",
    "def get_transport_mode(utility, P):\n",
    "    pass\n",
    "\n",
    "# The probability of delays (d) given the medium (m)\n",
    "# P[d,m], where d = 1 means there is a delay\n",
    "P = np.matrix([[0.5, 0.5],\n",
    "               [0.8, 0.2]])\n",
    "\n",
    "cost = [16, 12]\n",
    "print(get_transport_mode(utility, P)\n",
    "      "
   ]
  },
  {
   "cell_type": "markdown",
   "id": "e19e60f0-82a3-42b9-b4fa-21365c5549ad",
   "metadata": {},
   "source": [
    "# Example: The utility of money\n",
    "\n",
    "Why is insurance possible? If both you and the insurer agree that there is a certain probability of a bad event happening, how can both you and the insurer prefer to join the contract?\n",
    "\n",
    "| Personal Costs | good | bad |\n",
    "| --------- | ---- | --- |\n",
    "|   None    |   0  | 10000 |\n",
    "|   Full    | 100 | 100 | \n",
    "\n",
    "| Insurer Costs | good | bad |\n",
    "| --------- | ---- | --- |\n",
    "|   None    |   0  | 0 |\n",
    "|   Full    | -100 | 9000 | \n",
    "\n",
    "\n",
    "What is the expected amount of money you lose or gain for different probabilities of the bad event? In particular, when $10000 p > 100$, or when $p > 1/100$, you should prefer insurance. \n",
    "On the other hand, the insurer would rather not insure you..."
   ]
  },
  {
   "cell_type": "code",
   "execution_count": null,
   "id": "6c654fa9-cfc9-4553-8c1c-5caba5f87aad",
   "metadata": {},
   "outputs": [],
   "source": [
    "def money_lost(p):\n",
    "    none = -10000* p\n",
    "    full = -100\n",
    "    \n"
   ]
  }
 ],
 "metadata": {
  "kernelspec": {
   "display_name": "Python 3 (ipykernel)",
   "language": "python",
   "name": "python3"
  },
  "language_info": {
   "codemirror_mode": {
    "name": "ipython",
    "version": 3
   },
   "file_extension": ".py",
   "mimetype": "text/x-python",
   "name": "python",
   "nbconvert_exporter": "python",
   "pygments_lexer": "ipython3",
   "version": "3.8.10"
  }
 },
 "nbformat": 4,
 "nbformat_minor": 5
}
