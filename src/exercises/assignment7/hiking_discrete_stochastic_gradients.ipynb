{
 "cells": [
  {
   "cell_type": "code",
   "execution_count": null,
   "metadata": {},
   "outputs": [],
   "source": [
    "import numpy as np\n",
    "np.random.seed(0)"
   ]
  },
  {
   "cell_type": "code",
   "execution_count": null,
   "metadata": {},
   "outputs": [],
   "source": [
    "# Problem definition (this is not known by the decision maker)\n",
    "\n",
    "# probabilities for sunny, windy, rainy\n",
    "weather_distribution = np.array([0.41, 0.26, 0.33])\n",
    "num_weathers = len(weather_distribution)"
   ]
  },
  {
   "cell_type": "code",
   "execution_count": null,
   "metadata": {},
   "outputs": [],
   "source": [
    "# TO FILL\n",
    "utility_table = np.array(\n",
    "    # sunny, windy, rainy\n",
    "    [[0, 0, 0], # no jacket\n",
    "    [0, 0, 0], # wind breaker\n",
    "    [0, 0, 0]]  # rain jacket\n",
    ")\n",
    "num_actions = len(utility_table)\n",
    "action_meanings = {\n",
    "    0: \"No Jacket\",\n",
    "    1: \"Wind Breaker\",\n",
    "    2: \"Rain Jacket\"\n",
    "}\n"
   ]
  },
  {
   "cell_type": "code",
   "execution_count": null,
   "metadata": {},
   "outputs": [],
   "source": [
    "# TO FILL\n",
    "def compute_optimal_action(estimates: np.ndarray) -> np.ndarray:\n",
    "    # Pick the optimal action given estimates of the true distribution parameters\n",
    "    pass"
   ]
  },
  {
   "cell_type": "code",
   "execution_count": null,
   "metadata": {},
   "outputs": [],
   "source": [
    "# TO FILL \n",
    "def compute_mse_gradient(observed: float, predicted: float) -> np.ndarray:\n",
    "    # compute the gradient for the mse loss: (observed - predicted)^2\n",
    "    pass\n",
    "\n",
    "# TO FILL\n",
    "def update_estimates(observed: float, estimates: np.ndarray, learning_rate: float) -> np.ndarray:\n",
    "    # update our estimates by taking a gradient step\n",
    "    pass\n",
    "    "
   ]
  },
  {
   "cell_type": "code",
   "execution_count": null,
   "metadata": {},
   "outputs": [],
   "source": [
    "# We want to estimate the expected utility of picking each jacket.\n",
    "# Initialise jacket expected utility estimates\n",
    "estimates = np.ones(num_actions)  # Start with arbitrary estimates\n",
    "num_samples = 10000\n",
    "learning_rate_schedule = np.linspace(0.01, 0, num_samples)\n",
    "\n",
    "for i, learning_rate in enumerate(learning_rate_schedule, 1):\n",
    "    # Sample a random weather condition from the true distribution\n",
    "    weather = np.random.choice(num_weathers, p=weather_distribution) \n",
    "    \n",
    "    # TO FILL\n",
    "    \n",
    "    if i == 1 or i % 500 == 0:\n",
    "        print(\"Sampled amount:\", i)\n",
    "        print(\"Estimates:\", estimates)\n",
    "        print(\"Estimated best action:\", action_meanings[compute_optimal_action(estimates)])\n",
    "    "
   ]
  }
 ],
 "metadata": {
  "kernelspec": {
   "display_name": "Python 3",
   "language": "python",
   "name": "python3"
  },
  "language_info": {
   "codemirror_mode": {
    "name": "ipython",
    "version": 3
   },
   "file_extension": ".py",
   "mimetype": "text/x-python",
   "name": "python",
   "nbconvert_exporter": "python",
   "pygments_lexer": "ipython3",
   "version": "3.8.10"
  }
 },
 "nbformat": 4,
 "nbformat_minor": 4
}
