{
 "cells": [
  {
   "cell_type": "code",
   "execution_count": 9,
   "metadata": {},
   "outputs": [],
   "source": [
    "import numpy as np\n",
    "np.random.seed(0)"
   ]
  },
  {
   "cell_type": "code",
   "execution_count": 10,
   "metadata": {},
   "outputs": [],
   "source": [
    "# Problem definition (this is not know by the decision maker)\n",
    "\n",
    "# probabilities for sunny, windy, rainy\n",
    "weather_distribution = np.array([0.41, 0.26, 0.33])\n",
    "num_weathers = len(weather_distribution)"
   ]
  },
  {
   "cell_type": "code",
   "execution_count": 29,
   "metadata": {},
   "outputs": [
    {
     "name": "stdout",
     "output_type": "stream",
     "text": [
      "[2.1  0.84 0.66]\n"
     ]
    }
   ],
   "source": [
    "# TO FILL\n",
    "utility_table = np.array(\n",
    "    # sunny, windy, rainy\n",
    "    [[10, 5, -10], # no jacket\n",
    "    [1, 8, -5], # wind breaker\n",
    "    [-3, 6, 1]]  # rain jacket\n",
    ")\n",
    "num_actions = len(utility_table)\n",
    "action_meanings = {\n",
    "    0: \"No Jacket\",\n",
    "    1: \"Wind Breaker\",\n",
    "    2: \"Rain Jacket\"\n",
    "}\n"
   ]
  },
  {
   "cell_type": "code",
   "execution_count": 24,
   "metadata": {},
   "outputs": [],
   "source": [
    "# TO FILL\n",
    "def compute_optimal_action(estimates: np.ndarray) -> np.ndarray:\n",
    "    # Pick the optimal action given estimates of the true distribution parameters\n",
    "    return np.argmax(estimates)"
   ]
  },
  {
   "cell_type": "code",
   "execution_count": 25,
   "metadata": {},
   "outputs": [],
   "source": [
    "# TO FILL \n",
    "def compute_mse_gradient(observed: float, predicted: float) -> np.ndarray:\n",
    "    # compute the gradient for the mse loss: (observed - predicted)^2\n",
    "    return 2 * (observed - predicted)\n",
    "\n",
    "# TO FILL\n",
    "def update_estimates(observed: float, estimates: np.ndarray, learning_rate: float) -> np.ndarray:\n",
    "    # update our estimates by taking a gradient step\n",
    "    estimates[:] = estimates + learning_rate * compute_mse_gradient(observed, estimates)\n",
    "    "
   ]
  },
  {
   "cell_type": "code",
   "execution_count": 31,
   "metadata": {},
   "outputs": [
    {
     "name": "stdout",
     "output_type": "stream",
     "text": [
      "Sampled amount: 1\n",
      "Estimates: [1.18 1.   0.92]\n",
      "Estimated best action: No Jacket\n",
      "Sampled amount: 500\n",
      "Estimates: [1.91575132 0.67229874 0.59101836]\n",
      "Estimated best action: No Jacket\n",
      "Sampled amount: 1000\n",
      "Estimates: [2.49325247 1.42352956 1.01951781]\n",
      "Estimated best action: No Jacket\n",
      "Sampled amount: 1500\n",
      "Estimates: [0.38673031 0.04110181 0.7344965 ]\n",
      "Estimated best action: Rain Jacket\n",
      "Sampled amount: 2000\n",
      "Estimates: [1.8397684  1.02026605 0.95518564]\n",
      "Estimated best action: No Jacket\n",
      "Sampled amount: 2500\n",
      "Estimates: [2.69273031 0.91822849 0.44772161]\n",
      "Estimated best action: No Jacket\n",
      "Sampled amount: 3000\n",
      "Estimates: [1.95945868 0.80161087 0.69165957]\n",
      "Estimated best action: No Jacket\n",
      "Sampled amount: 3500\n",
      "Estimates: [2.50657981 0.80451242 0.43048496]\n",
      "Estimated best action: No Jacket\n",
      "Sampled amount: 4000\n",
      "Estimates: [2.02295231 0.99157594 0.83982389]\n",
      "Estimated best action: No Jacket\n",
      "Sampled amount: 4500\n",
      "Estimates: [2.27442961 1.34673718 1.05279248]\n",
      "Estimated best action: No Jacket\n",
      "Sampled amount: 5000\n",
      "Estimates: [0.38125095 0.12641824 0.81743729]\n",
      "Estimated best action: Rain Jacket\n",
      "Sampled amount: 5500\n",
      "Estimates: [1.90544982 0.61431144 0.54142909]\n",
      "Estimated best action: No Jacket\n",
      "Sampled amount: 6000\n",
      "Estimates: [2.47933336 1.24010613 0.85359791]\n",
      "Estimated best action: No Jacket\n",
      "Sampled amount: 6500\n",
      "Estimates: [1.48474543 0.4313635  0.57217079]\n",
      "Estimated best action: No Jacket\n",
      "Sampled amount: 7000\n",
      "Estimates: [2.55022156 0.9992766  0.5927417 ]\n",
      "Estimated best action: No Jacket\n",
      "Sampled amount: 7500\n",
      "Estimates: [2.87898002 0.99303499 0.42828963]\n",
      "Estimated best action: No Jacket\n",
      "Sampled amount: 8000\n",
      "Estimates: [2.8483512  1.16881257 0.60850125]\n",
      "Estimated best action: No Jacket\n",
      "Sampled amount: 8500\n",
      "Estimates: [1.95283057 0.68441875 0.5845582 ]\n",
      "Estimated best action: No Jacket\n",
      "Sampled amount: 9000\n",
      "Estimates: [1.79004482 0.72008891 0.6966503 ]\n",
      "Estimated best action: No Jacket\n",
      "Sampled amount: 9500\n",
      "Estimates: [2.33767392 0.87643859 0.57965243]\n",
      "Estimated best action: No Jacket\n",
      "Sampled amount: 10000\n",
      "Estimates: [2.17243255 0.81684959 0.60327332]\n",
      "Estimated best action: No Jacket\n"
     ]
    }
   ],
   "source": [
    "# Initialise jacket policy\n",
    "estimates = np.ones(num_actions)  # Start with arbitrary estimates\n",
    "num_samples = 10000\n",
    "learning_rate_schedule = np.linspace(0.01, 0, num_samples)\n",
    "\n",
    "for i, learning_rate in enumerate(learning_rate_schedule, 1):\n",
    "    # Sample a random weather condition from the true distribution\n",
    "    weather = np.random.choice(num_weathers, p=weather_distribution) \n",
    "    \n",
    "    # TO FILL\n",
    "    \n",
    "    observed_utilities = utility_table[:, weather]\n",
    "    update_estimates(observed_utilities, estimates, learning_rate)\n",
    "    \n",
    "    if i == 1 or i % 500 == 0:\n",
    "        print(\"Sampled amount:\", i)\n",
    "        print(\"Estimates:\", estimates)\n",
    "        print(\"Estimated best action:\", action_meanings[compute_optimal_action(estimates)])\n",
    "    "
   ]
  },
  {
   "cell_type": "code",
   "execution_count": 38,
   "metadata": {},
   "outputs": [],
   "source": [
    "# Initialize water choice (continuous) and learning rate\n",
    "water = np.random.uniform(0, 3)  # Random initial water amount\n",
    "learning_rate_water = 0.1"
   ]
  },
  {
   "cell_type": "code",
   "execution_count": null,
   "metadata": {},
   "outputs": [],
   "source": []
  }
 ],
 "metadata": {
  "kernelspec": {
   "display_name": "Python 3",
   "language": "python",
   "name": "python3"
  },
  "language_info": {
   "codemirror_mode": {
    "name": "ipython",
    "version": 3
   },
   "file_extension": ".py",
   "mimetype": "text/x-python",
   "name": "python",
   "nbconvert_exporter": "python",
   "pygments_lexer": "ipython3",
   "version": "3.8.10"
  }
 },
 "nbformat": 4,
 "nbformat_minor": 4
}
