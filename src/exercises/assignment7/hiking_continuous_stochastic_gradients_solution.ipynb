{
 "cells": [
  {
   "cell_type": "code",
   "execution_count": 2,
   "metadata": {},
   "outputs": [],
   "source": [
    "import numpy as np\n",
    "np.random.seed(0)"
   ]
  },
  {
   "cell_type": "code",
   "execution_count": 16,
   "metadata": {},
   "outputs": [],
   "source": [
    "# Problem definition (this is not know by the decision maker)\n",
    "\n",
    "# probabilities for sunny, windy, rainy\n",
    "weather_distribution = {\n",
    "    \"sunny\": 0.41,\n",
    "    \"windy\": 0.26,\n",
    "    \"rainy\": 0.33\n",
    "}\n",
    "weather_conditions = list(weather_distribution.keys())\n",
    "weather_probs = np.array(list(weather_distribution.values()))\n",
    "num_weathers = len(weather_distribution)"
   ]
  },
  {
   "cell_type": "code",
   "execution_count": 23,
   "metadata": {},
   "outputs": [
    {
     "name": "stdout",
     "output_type": "stream",
     "text": [
      "2.08\n"
     ]
    }
   ],
   "source": [
    "\n",
    "def sunny_utility(water):\n",
    "    return 7 - (water - 3)**2\n",
    "\n",
    "def windy_utility(water):\n",
    "    return 4 - (water - 2)**2\n",
    "\n",
    "def rainy_utility(water):\n",
    "    return 2 - (water - 1)**2\n",
    "\n",
    "\n",
    "# TO FILL\n",
    "optimal_water = {\n",
    "    \"sunny\": 3,\n",
    "    \"windy\": 2,\n",
    "    \"rainy\": 1\n",
    "}\n",
    "\n",
    "def get_optimal_action_for(weather):\n",
    "    return optimal_water[weather]\n"
   ]
  },
  {
   "cell_type": "code",
   "execution_count": null,
   "metadata": {},
   "outputs": [],
   "source": [
    "# a simple plot to visualise the actual utility function.\n",
    "water = np.linspace(0, 5)\n",
    "\n",
    "expected_utility = sunny_utility(water) * weather_distribution[\"sunny\"] + windy_utility(water) * weather_distribution[\"windy\"] + rainy_utility(water) * weather_distribution[\"rainy\"] \n",
    "\n",
    "plt.grid()\n",
    "plt.xlabel(\"Water\")\n",
    "plt.ylabel(\"Expected Utility\")\n",
    "plt.plot(water, expected_utility)"
   ]
  },
  {
   "cell_type": "code",
   "execution_count": 18,
   "metadata": {},
   "outputs": [],
   "source": [
    "# TO FILL \n",
    "def compute_mse_gradient(observed: float, predicted: float) -> np.ndarray:\n",
    "    # compute the gradient for the mse loss: (observed - predicted)^2\n",
    "    return 2 * (observed - predicted)\n",
    "\n",
    "# TO FILL \n",
    "def update_estimate(observed: float, estimate: np.ndarray, learning_rate: float) -> np.ndarray:\n",
    "    # update our estimates by taking a gradient step\n",
    "    return estimate + learning_rate * compute_mse_gradient(observed, estimate)\n",
    "    "
   ]
  },
  {
   "cell_type": "code",
   "execution_count": 21,
   "metadata": {},
   "outputs": [
    {
     "name": "stdout",
     "output_type": "stream",
     "text": [
      "Sampled amount: 1\n",
      "Estimates: 0.04\n",
      "Estimated best action: 0.04\n",
      "Sampled amount: 500\n",
      "Estimates: 2.151114070998213\n",
      "Estimated best action: 2.151114070998213\n",
      "Sampled amount: 1000\n",
      "Estimates: 2.0579672919497356\n",
      "Estimated best action: 2.0579672919497356\n",
      "Sampled amount: 1500\n",
      "Estimates: 2.062072114442428\n",
      "Estimated best action: 2.062072114442428\n",
      "Sampled amount: 2000\n",
      "Estimates: 2.034698513410157\n",
      "Estimated best action: 2.034698513410157\n",
      "Sampled amount: 2500\n",
      "Estimates: 2.059036607709102\n",
      "Estimated best action: 2.059036607709102\n",
      "Sampled amount: 3000\n",
      "Estimates: 2.082233253141011\n",
      "Estimated best action: 2.082233253141011\n",
      "Sampled amount: 3500\n",
      "Estimates: 2.100755658140103\n",
      "Estimated best action: 2.100755658140103\n",
      "Sampled amount: 4000\n",
      "Estimates: 2.2835952098918573\n",
      "Estimated best action: 2.2835952098918573\n",
      "Sampled amount: 4500\n",
      "Estimates: 2.050804903993467\n",
      "Estimated best action: 2.050804903993467\n",
      "Sampled amount: 5000\n",
      "Estimates: 2.1601464927865255\n",
      "Estimated best action: 2.1601464927865255\n",
      "Sampled amount: 5500\n",
      "Estimates: 2.01806417825437\n",
      "Estimated best action: 2.01806417825437\n",
      "Sampled amount: 6000\n",
      "Estimates: 2.163569818012986\n",
      "Estimated best action: 2.163569818012986\n",
      "Sampled amount: 6500\n",
      "Estimates: 2.0796467494490924\n",
      "Estimated best action: 2.0796467494490924\n",
      "Sampled amount: 7000\n",
      "Estimates: 2.0796264481509867\n",
      "Estimated best action: 2.0796264481509867\n",
      "Sampled amount: 7500\n",
      "Estimates: 2.0542096527857256\n",
      "Estimated best action: 2.0542096527857256\n",
      "Sampled amount: 8000\n",
      "Estimates: 2.0905287103398504\n",
      "Estimated best action: 2.0905287103398504\n",
      "Sampled amount: 8500\n",
      "Estimates: 2.067021288849954\n",
      "Estimated best action: 2.067021288849954\n",
      "Sampled amount: 9000\n",
      "Estimates: 2.0655733823134463\n",
      "Estimated best action: 2.0655733823134463\n",
      "Sampled amount: 9500\n",
      "Estimates: 2.0848053393716737\n",
      "Estimated best action: 2.0848053393716737\n",
      "Sampled amount: 10000\n",
      "Estimates: 2.0772427934690967\n",
      "Estimated best action: 2.0772427934690967\n"
     ]
    }
   ],
   "source": [
    "# Initialise jacket policy\n",
    "estimate = 0.  # Start with arbitrary estimates\n",
    "num_samples = 10000\n",
    "learning_rate_schedule = np.linspace(0.01, 0, num_samples)\n",
    "\n",
    "for i, learning_rate in enumerate(learning_rate_schedule, 1):\n",
    "    # Sample a random weather condition from the true distribution\n",
    "    weather = np.random.choice(weather_conditions, p=weather_probs)\n",
    "    \n",
    "    # TO FILL\n",
    "    \n",
    "    observed_utility = get_optimal_action_for(weather)\n",
    "    estimate = update_estimate(observed_utility, estimate, learning_rate)\n",
    "    \n",
    "    if i == 1 or i % 500 == 0:\n",
    "        print(\"Sampled amount:\", i)\n",
    "        print(\"Estimates:\", estimate)\n",
    "        print(\"Estimated best action:\", estimate)\n",
    "    "
   ]
  },
  {
   "cell_type": "code",
   "execution_count": 38,
   "metadata": {},
   "outputs": [],
   "source": [
    "# Initialize water choice (continuous) and learning rate\n",
    "water = np.random.uniform(0, 3)  # Random initial water amount\n",
    "learning_rate_water = 0.1"
   ]
  },
  {
   "cell_type": "code",
   "execution_count": null,
   "metadata": {},
   "outputs": [],
   "source": []
  }
 ],
 "metadata": {
  "kernelspec": {
   "display_name": "Python 3",
   "language": "python",
   "name": "python3"
  },
  "language_info": {
   "codemirror_mode": {
    "name": "ipython",
    "version": 3
   },
   "file_extension": ".py",
   "mimetype": "text/x-python",
   "name": "python",
   "nbconvert_exporter": "python",
   "pygments_lexer": "ipython3",
   "version": "3.8.10"
  }
 },
 "nbformat": 4,
 "nbformat_minor": 4
}
