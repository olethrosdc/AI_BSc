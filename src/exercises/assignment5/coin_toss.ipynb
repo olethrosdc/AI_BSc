{
 "cells": [
  {
   "cell_type": "code",
   "execution_count": null,
   "metadata": {},
   "outputs": [],
   "source": [
    "import numpy as np\n",
    "import scipy.stats as stats\n",
    "import matplotlib.pyplot as plt"
   ]
  },
  {
   "cell_type": "code",
   "execution_count": null,
   "metadata": {},
   "outputs": [],
   "source": [
    "class BetaConjugatePrior:\n",
    "    ## Initialise with the beta parameters\n",
    "    def __init__(self, alpha, beta):\n",
    "        self.alpha = alpha\n",
    "        self.beta = beta\n",
    "\n",
    "    ## Update the belief when you see a new observation\n",
    "    def update(self, success):\n",
    "        # TODO\n",
    "        pass\n",
    "\n",
    "    def mean(self):\n",
    "        # TODO\n",
    "        pass"
   ]
  },
  {
   "cell_type": "code",
   "execution_count": null,
   "metadata": {},
   "outputs": [],
   "source": [
    "def visualize_distribution(previous_belief, belief, true_param):\n",
    "    x = np.linspace(0, 1, 20)\n",
    "    plt.plot(x, stats.beta.pdf(x, belief.alpha, belief.beta))\n",
    "    plt.plot(x, stats.beta.pdf(x, previous_belief.alpha, previous_belief.beta), linestyle=\"--\")\n",
    "    plt.axvline(x = true_param, color = 'b', linestyle=\":\")\n",
    "    plt.legend([\"Current belief model\", \"Previous belief model\", \"True bias\"])\n",
    "    plt.show()"
   ]
  },
  {
   "cell_type": "code",
   "execution_count": null,
   "metadata": {},
   "outputs": [],
   "source": [
    "T = 100  # number of time steps\n",
    "true_bias = 0.6 # probability of heads\n",
    "alpha_0 = beta_0 = 2 # initial belief parameters\n",
    "previous_belief = BetaConjugatePrior(alpha_0, beta_0)\n",
    "belief = BetaConjugatePrior(alpha_0, beta_0)\n",
    "\n",
    "for t in range(T):\n",
    "    # sample from the n=1 binomial (i.e. Bernoulli) distribution\n",
    "    # equivalent to performing one coin toss\n",
    "    is_head = np.random.binomial(1, true_bias) == 1\n",
    "    ## update the belief\n",
    "    belief.update(is_head)\n",
    "\n",
    "    print(\"Tosses:\", t+1)\n",
    "    print(\"Alpha:\", belief.alpha, \"Beta:\", belief.beta)\n",
    "    print(f\"Distribution mean: {belief.mean():.3f}\")\n",
    "\n",
    "    visualize_distribution(previous_belief, belief, true_bias)\n",
    "    previous_belief.update(is_head)"
   ]
  }
 ],
 "metadata": {
  "kernelspec": {
   "display_name": "Python 3",
   "language": "python",
   "name": "python3"
  },
  "language_info": {
   "codemirror_mode": {
    "name": "ipython",
    "version": 3
   },
   "file_extension": ".py",
   "mimetype": "text/x-python",
   "name": "python",
   "nbconvert_exporter": "python",
   "pygments_lexer": "ipython3",
   "version": "3.8.10"
  }
 },
 "nbformat": 4,
 "nbformat_minor": 4
}
