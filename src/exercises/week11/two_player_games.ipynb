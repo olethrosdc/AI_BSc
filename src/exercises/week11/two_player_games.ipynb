{
 "cells": [
  {
   "cell_type": "code",
   "execution_count": 1,
   "metadata": {},
   "outputs": [
    {
     "name": "stdout",
     "output_type": "stream",
     "text": [
      "Requirement already satisfied: nashpy in /home/goji/.local/lib/python3.8/site-packages (0.0.41)\n",
      "Requirement already satisfied: numpy>=1.21.0 in /home/goji/.local/lib/python3.8/site-packages (from nashpy) (1.23.3)\n",
      "Requirement already satisfied: networkx>=3.0.0 in /home/goji/.local/lib/python3.8/site-packages (from nashpy) (3.0)\n",
      "Requirement already satisfied: deprecated>=1.2.14 in /home/goji/.local/lib/python3.8/site-packages (from nashpy) (1.2.14)\n",
      "Requirement already satisfied: scipy>=0.19.0 in /home/goji/.local/lib/python3.8/site-packages (from nashpy) (1.4.1)\n",
      "Requirement already satisfied: wrapt<2,>=1.10 in /home/goji/.local/lib/python3.8/site-packages (from deprecated>=1.2.14->nashpy) (1.12.1)\n"
     ]
    }
   ],
   "source": [
    "!python -m pip install nashpy # install nashpy library"
   ]
  },
  {
   "cell_type": "code",
   "execution_count": 2,
   "metadata": {},
   "outputs": [],
   "source": [
    "import nashpy as nash\n",
    "import numpy as np\n",
    "# c.f. https://nashpy.readthedocs.io/en/stable/index.html"
   ]
  },
  {
   "cell_type": "markdown",
   "metadata": {},
   "source": [
    "## Example\n",
    "\n",
    "Rock Paper Scizors"
   ]
  },
  {
   "cell_type": "code",
   "execution_count": 4,
   "metadata": {},
   "outputs": [
    {
     "name": "stdout",
     "output_type": "stream",
     "text": [
      "Zero sum game with payoff matrices:\n",
      "\n",
      "Row player:\n",
      "[[ 0 -1  1]\n",
      " [ 1  0 -1]\n",
      " [-1  1  0]]\n",
      "\n",
      "Column player:\n",
      "[[ 0  1 -1]\n",
      " [-1  0  1]\n",
      " [ 1 -1  0]]\n",
      "Utility if first player chooses Rock and second player chooses Paper [-1  1]\n",
      "Best responses ? (False, True)\n",
      "Nash equilibrium:::\n",
      "[array([0.33333333, 0.33333333, 0.33333333]), array([0.33333333, 0.33333333, 0.33333333])]\n"
     ]
    }
   ],
   "source": [
    "\n",
    "# payoff matrix for the first player\n",
    "rock_paper_scizors_matrix = np.array([\n",
    "    #R  #P  #S\n",
    "    [0, -1, 1], # R\n",
    "    [1, 0, -1], # P\n",
    "    [-1, 1, 0]  # S\n",
    "])\n",
    "\n",
    "# The game is a two-player zero-sum game so we only need to feed the first player payoff matrix\n",
    "game = nash.Game(rock_paper_scizors_matrix)\n",
    "print(game)\n",
    "\n",
    "\n",
    "policy_a = np.array([1, 0, 0]) # probability for each action, R, P, S\n",
    "policy_b = np.array([0, 1, 0])\n",
    "# Utility for each player, if they follow the above policies\n",
    "print(\"Utility if first player chooses Rock and second player chooses Paper\", game[policy_a, policy_b])\n",
    "print(\"Best responses ?\", game.is_best_response(policy_a, policy_b))\n",
    "\n",
    "policy_a = np.ones(3, dtype=np.float32) / 3 # random policy\n",
    "# calculate the best response\n",
    "nash_eq = game.linear_program()\n",
    "print(\"Nash equilibrium:\")\n",
    "print(list(nash_eq)) # nash equilibrium is fully random policies for both sides (1/3 probability for each action)"
   ]
  },
  {
   "cell_type": "markdown",
   "metadata": {},
   "source": [
    "# 1) A Medieval Duel\n",
    "\n",
    "#### Define the following 2-player zero-sum game where:\n",
    "There is 4 actions:\n",
    "\n",
    "1. Hide\n",
    "2. Charge with a sword\n",
    "3. Shoot an arrow \n",
    "4. Scoot\n",
    "    \n",
    "#### Description:\n",
    "You engage in a fight with your opponent, which is taking place in the middle of a forest. Both of you own a bow with a couple arrows, and a sword:\n",
    "- If you hide, your opponent cannot find you, unless he is scooting.\n",
    "- Charging costs some energy, and shooting spends an arrow.\n",
    "- Scooting makes you defenseless if your opponent is charging or shooting.\n",
    "\n",
    "Goals:\n",
    "- Define the payoff (your choice) for the first player for each action, in function of the action of the opponent.\n",
    "- Construct the game matrix.\n",
    "- Compute the nash equilibriums of your game."
   ]
  },
  {
   "cell_type": "code",
   "execution_count": null,
   "metadata": {},
   "outputs": [],
   "source": [
    "\n",
    "# For each action, define their payoff when the other player picks their own action \n",
    "# example\n",
    "\n",
    "# Remember that the matrix has to be skew-symmetric, and have 0 on the diagonal, so that A + transpose(A) = 0\n",
    "game_matrix = np.array([\n",
    "    [hide_to_hide, hide_to_charge, hide_to_arrow, hide_to_scoot],\n",
    "    [...],\n",
    "    [...],\n",
    "    [...]\n",
    "])\n",
    "game = nash.Game(game_matrix)\n",
    "\n",
    "# Test multiple policies, compute the nash equilibrium ... and interpret the policies."
   ]
  },
  {
   "cell_type": "markdown",
   "metadata": {},
   "source": [
    "# 2) Prisoner's Dilemma\n",
    "\n",
    "The prisoner's Dilemma: https://en.wikipedia.org/wiki/Prisoner%27s_dilemma\n",
    "\n",
    "Goal: Define the prisoner's dilemma game matrix and determine its nash equilibrias."
   ]
  },
  {
   "cell_type": "code",
   "execution_count": null,
   "metadata": {},
   "outputs": [],
   "source": []
  },
  {
   "cell_type": "markdown",
   "metadata": {},
   "source": [
    "# 3) Stag Hunt\n",
    "\n",
    "The Stag Hunt problem: https://en.wikipedia.org/wiki/Stag_hunt\n",
    "\n",
    "Similarly to the prisoner's dilemma, define the game matrix and determine its nash equilibria"
   ]
  },
  {
   "cell_type": "code",
   "execution_count": null,
   "metadata": {},
   "outputs": [],
   "source": []
  }
 ],
 "metadata": {
  "kernelspec": {
   "display_name": "Python 3",
   "language": "python",
   "name": "python3"
  },
  "language_info": {
   "codemirror_mode": {
    "name": "ipython",
    "version": 3
   },
   "file_extension": ".py",
   "mimetype": "text/x-python",
   "name": "python",
   "nbconvert_exporter": "python",
   "pygments_lexer": "ipython3",
   "version": "3.8.10"
  }
 },
 "nbformat": 4,
 "nbformat_minor": 4
}
