{
 "cells": [
  {
   "cell_type": "code",
   "execution_count": 1,
   "id": "06b7ad1d-b701-4999-a137-ebd0e20ee188",
   "metadata": {
    "tags": []
   },
   "outputs": [],
   "source": [
    "from WumpusWorld import ObsWumpusWorld\n",
    "import numpy as np\n",
    "import matplotlib.pyplot as plt"
   ]
  },
  {
   "cell_type": "code",
   "execution_count": 2,
   "id": "cffae561-d2e6-4057-8d3c-bbd6521b1e0c",
   "metadata": {
    "tags": []
   },
   "outputs": [
    {
     "name": "stdout",
     "output_type": "stream",
     "text": [
      "Testing\n"
     ]
    },
    {
     "ename": "TypeError",
     "evalue": "get_state() missing 2 required positional arguments: 'wx' and 'wy'",
     "output_type": "error",
     "traceback": [
      "\u001b[0;31m---------------------------------------------------------------------------\u001b[0m",
      "\u001b[0;31mTypeError\u001b[0m                                 Traceback (most recent call last)",
      "Cell \u001b[0;32mIn[2], line 5\u001b[0m\n\u001b[1;32m      3\u001b[0m height \u001b[38;5;241m=\u001b[39m \u001b[38;5;241m8\u001b[39m\n\u001b[1;32m      4\u001b[0m width \u001b[38;5;241m=\u001b[39m \u001b[38;5;241m8\u001b[39m\n\u001b[0;32m----> 5\u001b[0m environment \u001b[38;5;241m=\u001b[39m \u001b[43mObsWumpusWorld\u001b[49m\u001b[43m(\u001b[49m\u001b[43mwidth\u001b[49m\u001b[43m,\u001b[49m\u001b[43m \u001b[49m\u001b[43mheight\u001b[49m\u001b[43m,\u001b[49m\u001b[43m \u001b[49m\u001b[38;5;241;43m0.3\u001b[39;49m\u001b[43m,\u001b[49m\u001b[43m \u001b[49m\u001b[38;5;241;43m0.3\u001b[39;49m\u001b[43m)\u001b[49m\n\u001b[1;32m      6\u001b[0m environment\u001b[38;5;241m.\u001b[39mrender()\n\u001b[1;32m      8\u001b[0m \u001b[38;5;28;01mfrom\u001b[39;00m \u001b[38;5;21;01mValueIteration\u001b[39;00m \u001b[38;5;28;01mimport\u001b[39;00m value_iteration\n",
      "File \u001b[0;32m~/teaching/AI_BSc/src/MDPs/WumpusWorld.py:63\u001b[0m, in \u001b[0;36mObsWumpusWorld.__init__\u001b[0;34m(self, width, height, density, randomness, r_step, r_goal, r_hole, r_wumpus)\u001b[0m\n\u001b[1;32m     61\u001b[0m \u001b[38;5;28;01mfor\u001b[39;00m x \u001b[38;5;129;01min\u001b[39;00m \u001b[38;5;28mrange\u001b[39m(width):\n\u001b[1;32m     62\u001b[0m     \u001b[38;5;28;01mfor\u001b[39;00m y \u001b[38;5;129;01min\u001b[39;00m \u001b[38;5;28mrange\u001b[39m(height):\n\u001b[0;32m---> 63\u001b[0m         s \u001b[38;5;241m=\u001b[39m \u001b[38;5;28;43mself\u001b[39;49m\u001b[38;5;241;43m.\u001b[39;49m\u001b[43mget_state\u001b[49m\u001b[43m(\u001b[49m\u001b[43mx\u001b[49m\u001b[43m,\u001b[49m\u001b[43m \u001b[49m\u001b[43my\u001b[49m\u001b[43m)\u001b[49m\n\u001b[1;32m     65\u001b[0m         xr \u001b[38;5;241m=\u001b[39m \u001b[38;5;28mmin\u001b[39m(\u001b[38;5;28mmax\u001b[39m(\u001b[38;5;241m0\u001b[39m, x\u001b[38;5;241m+\u001b[39m\u001b[38;5;241m1\u001b[39m), \u001b[38;5;28mself\u001b[39m\u001b[38;5;241m.\u001b[39mwidth \u001b[38;5;241m-\u001b[39m \u001b[38;5;241m1\u001b[39m)\n\u001b[1;32m     66\u001b[0m         yr \u001b[38;5;241m=\u001b[39m \u001b[38;5;28mmin\u001b[39m(\u001b[38;5;28mmax\u001b[39m(\u001b[38;5;241m0\u001b[39m, y), \u001b[38;5;28mself\u001b[39m\u001b[38;5;241m.\u001b[39mheight \u001b[38;5;241m-\u001b[39m \u001b[38;5;241m1\u001b[39m)\n",
      "\u001b[0;31mTypeError\u001b[0m: get_state() missing 2 required positional arguments: 'wx' and 'wy'"
     ]
    }
   ],
   "source": [
    "print(\"Testing\")\n",
    "np.random.seed(2134)\n",
    "height = 8\n",
    "width = 8\n",
    "environment = ObsWumpusWorld(width, height, 0.3, 0.3)\n",
    "environment.render()\n",
    "\n",
    "from ValueIteration import value_iteration\n",
    "print(\"Calculating optimal policy\")\n",
    "policy, V, Q = value_iteration(environment, 100, .9)\n",
    "\n",
    "print(\"Policy, \", policy)\n",
    "policy_string=\"^v<>\"\n",
    "for y in range(height):\n",
    "    for x in range(width):\n",
    "        s = environment.get_state(x,y)\n",
    "        print(policy_string[policy[s]], end=\"\")\n",
    "    print(\"\")\n",
    "\n",
    "print(\"Values\")\n",
    "Vxy = np.zeros([height, width])\n",
    "for y in range(height):\n",
    "    for x in range(width):\n",
    "        print(V[environment.get_state(x,y)], end=\" \")\n",
    "        Vxy[x,y] = V[environment.get_state(x,y)]\n",
    "    print(\"\")\n",
    "plt.matshow(environment.maze.transpose())\n",
    "plt.matshow(Vxy.transpose())"
   ]
  },
  {
   "cell_type": "code",
   "execution_count": null,
   "id": "cacae34e-85bf-460b-ab40-db7a22561ab9",
   "metadata": {
    "tags": []
   },
   "outputs": [],
   "source": []
  },
  {
   "cell_type": "code",
   "execution_count": null,
   "id": "148c6e21-fcfa-4bca-84a3-0c75b5a3779b",
   "metadata": {},
   "outputs": [],
   "source": []
  }
 ],
 "metadata": {
  "kernelspec": {
   "display_name": "Python 3 (ipykernel)",
   "language": "python",
   "name": "python3"
  },
  "language_info": {
   "codemirror_mode": {
    "name": "ipython",
    "version": 3
   },
   "file_extension": ".py",
   "mimetype": "text/x-python",
   "name": "python",
   "nbconvert_exporter": "python",
   "pygments_lexer": "ipython3",
   "version": "3.8.10"
  }
 },
 "nbformat": 4,
 "nbformat_minor": 5
}
