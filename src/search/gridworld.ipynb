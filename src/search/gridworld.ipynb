{
 "cells": [
  {
   "cell_type": "code",
   "execution_count": 1,
   "id": "06b7ad1d-b701-4999-a137-ebd0e20ee188",
   "metadata": {
    "tags": []
   },
   "outputs": [],
   "source": [
    "from gridworld import GridWorld\n",
    "import numpy as np\n",
    "import matplotlib.pyplot as plt"
   ]
  },
  {
   "cell_type": "code",
   "execution_count": 2,
   "id": "cffae561-d2e6-4057-8d3c-bbd6521b1e0c",
   "metadata": {
    "tags": []
   },
   "outputs": [
    {
     "name": "stdout",
     "output_type": "stream",
     "text": [
      "Testing\n",
      "....#...##.#..#.\n",
      "..#.#.#X......##\n",
      "..#..........###\n",
      "...#......#.....\n",
      "..#........#....\n",
      "..#.#.........##\n",
      "...#............\n",
      ".....#........##\n",
      "..#.#...#..#.#.#\n",
      ".#....#.#.......\n",
      "............#...\n",
      "#...#..#.#......\n",
      "........##...#..\n",
      "O.......##....#.\n",
      "#.............#.\n",
      "...##....#.#..#.\n",
      "Calculating optimal policy\n"
     ]
    },
    {
     "ename": "TypeError",
     "evalue": "dynamic_programming() takes 2 positional arguments but 3 were given",
     "output_type": "error",
     "traceback": [
      "\u001b[0;31m---------------------------------------------------------------------------\u001b[0m",
      "\u001b[0;31mTypeError\u001b[0m                                 Traceback (most recent call last)",
      "Cell \u001b[0;32mIn[2], line 9\u001b[0m\n\u001b[1;32m      7\u001b[0m \u001b[38;5;28;01mfrom\u001b[39;00m \u001b[38;5;21;01mDynamicProgramming\u001b[39;00m \u001b[38;5;28;01mimport\u001b[39;00m dynamic_programming\n\u001b[1;32m      8\u001b[0m \u001b[38;5;28mprint\u001b[39m(\u001b[38;5;124m\"\u001b[39m\u001b[38;5;124mCalculating optimal policy\u001b[39m\u001b[38;5;124m\"\u001b[39m)\n\u001b[0;32m----> 9\u001b[0m policy, V, Q \u001b[38;5;241m=\u001b[39m \u001b[43mdynamic_programming\u001b[49m\u001b[43m(\u001b[49m\u001b[43menvironment\u001b[49m\u001b[43m,\u001b[49m\u001b[43m \u001b[49m\u001b[38;5;241;43m100\u001b[39;49m\u001b[43m,\u001b[49m\u001b[43m \u001b[49m\u001b[38;5;241;43m1\u001b[39;49m\u001b[43m)\u001b[49m\n\u001b[1;32m     11\u001b[0m \u001b[38;5;28mprint\u001b[39m(\u001b[38;5;124m\"\u001b[39m\u001b[38;5;124mPolicy, \u001b[39m\u001b[38;5;124m\"\u001b[39m, policy)\n\u001b[1;32m     12\u001b[0m policy_string\u001b[38;5;241m=\u001b[39m\u001b[38;5;124m\"\u001b[39m\u001b[38;5;124m^v<>\u001b[39m\u001b[38;5;124m\"\u001b[39m\n",
      "\u001b[0;31mTypeError\u001b[0m: dynamic_programming() takes 2 positional arguments but 3 were given"
     ]
    }
   ],
   "source": [
    "print(\"Testing\")\n",
    "height = 16\n",
    "width = 16\n",
    "environment = GridWorld(width, height)\n",
    "environment.render()\n",
    "\n",
    "from DynamicProgramming import dynamic_programming\n",
    "print(\"Calculating optimal policy\")\n",
    "policy, V, Q = dynamic_programming(environment, 100)\n",
    "\n",
    "print(\"Policy, \", policy)\n",
    "policy_string=\"^v<>\"\n",
    "for y in range(height):\n",
    "    for x in range(width):\n",
    "        s = environment.get_state(x,y)\n",
    "        print(policy_string[policy[s]], end=\"\")\n",
    "    print(\"\")\n",
    "\n",
    "print(\"Values\")\n",
    "Vxy = np.zeros([height, width])\n",
    "for y in range(height):\n",
    "    for x in range(width):\n",
    "        print(V[environment.get_state(x,y)], end=\" \")\n",
    "        Vxy[x,y] = V[environment.get_state(x,y)]\n",
    "    print(\"\")\n",
    "plt.matshow(environment.maze.transpose())\n",
    "plt.matshow(Vxy.transpose())"
   ]
  },
  {
   "cell_type": "code",
   "execution_count": null,
   "id": "cacae34e-85bf-460b-ab40-db7a22561ab9",
   "metadata": {
    "tags": []
   },
   "outputs": [],
   "source": []
  },
  {
   "cell_type": "code",
   "execution_count": null,
   "id": "148c6e21-fcfa-4bca-84a3-0c75b5a3779b",
   "metadata": {},
   "outputs": [],
   "source": []
  }
 ],
 "metadata": {
  "kernelspec": {
   "display_name": "Python 3 (ipykernel)",
   "language": "python",
   "name": "python3"
  },
  "language_info": {
   "codemirror_mode": {
    "name": "ipython",
    "version": 3
   },
   "file_extension": ".py",
   "mimetype": "text/x-python",
   "name": "python",
   "nbconvert_exporter": "python",
   "pygments_lexer": "ipython3",
   "version": "3.8.10"
  }
 },
 "nbformat": 4,
 "nbformat_minor": 5
}
